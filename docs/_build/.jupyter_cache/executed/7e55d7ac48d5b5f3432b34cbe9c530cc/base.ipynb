{
 "cells": [
  {
   "cell_type": "code",
   "execution_count": 1,
   "id": "fb4d6b22",
   "metadata": {
    "ExecuteTime": {
     "end_time": "2023-05-31T13:46:43.475685Z",
     "start_time": "2023-05-31T13:46:38.406535Z"
    }
   },
   "outputs": [],
   "source": [
    "# Imports\n",
    "import os\n",
    "from eoreader.reader import Reader\n",
    "from eoreader.bands import GREEN\n",
    "from eoreader.keywords import CLEAN_OPTICAL\n",
    "from eoreader.products import CleanMethod"
   ]
  },
  {
   "cell_type": "code",
   "execution_count": 2,
   "id": "62e00730",
   "metadata": {
    "ExecuteTime": {
     "end_time": "2023-05-31T13:46:44.157963Z",
     "start_time": "2023-05-31T13:46:43.470282Z"
    }
   },
   "outputs": [],
   "source": [
    "# Open the product\n",
    "folder = os.path.join(\"/home\", \"data\", \"DS3\", \"CI\", \"eoreader\", \"optical\")\n",
    "path = os.path.join(folder, \"LC08_L1TP_200030_20201220_20210310_02_T1.tar\")\n",
    "reader = Reader()\n",
    "prod = reader.open(path)"
   ]
  },
  {
   "cell_type": "code",
   "execution_count": 3,
   "id": "a122e342",
   "metadata": {
    "scrolled": true
   },
   "outputs": [
    {
     "name": "stdout",
     "output_type": "stream",
     "text": [
      "1.18 s ± 35.9 ms per loop (mean ± std. dev. of 7 runs, 1 loop each)\n"
     ]
    }
   ],
   "source": [
    "%%timeit\n",
    "prod.load(\n",
    "    GREEN, \n",
    "    **{CLEAN_OPTICAL: CleanMethod.RAW}\n",
    ")\n",
    "prod.clean_tmp()"
   ]
  },
  {
   "cell_type": "code",
   "execution_count": 4,
   "id": "62873f96",
   "metadata": {},
   "outputs": [
    {
     "name": "stdout",
     "output_type": "stream",
     "text": [
      "1.66 s ± 33.7 ms per loop (mean ± std. dev. of 7 runs, 1 loop each)\n"
     ]
    }
   ],
   "source": [
    "%%timeit\n",
    "prod.load(\n",
    "    GREEN, \n",
    "    **{CLEAN_OPTICAL: CleanMethod.NODATA}\n",
    ")\n",
    "prod.clean_tmp()"
   ]
  },
  {
   "cell_type": "code",
   "execution_count": 5,
   "id": "1f27e722",
   "metadata": {},
   "outputs": [
    {
     "name": "stdout",
     "output_type": "stream",
     "text": [
      "2.08 s ± 148 ms per loop (mean ± std. dev. of 7 runs, 1 loop each)\n"
     ]
    }
   ],
   "source": [
    "%%timeit\n",
    "prod.load(\n",
    "    GREEN, \n",
    "    **{CLEAN_OPTICAL: CleanMethod.CLEAN}\n",
    ")\n",
    "prod.clean_tmp()"
   ]
  },
  {
   "cell_type": "code",
   "execution_count": 6,
   "id": "004d4c20",
   "metadata": {},
   "outputs": [],
   "source": [
    "# Open the product\n",
    "path = os.path.join(folder, \"S2B_MSIL2A_20200114T065229_N0213_R020_T40REQ_20200114T094749.SAFE\")\n",
    "prod = reader.open(path)"
   ]
  },
  {
   "cell_type": "code",
   "execution_count": 7,
   "id": "9d5b17c5",
   "metadata": {},
   "outputs": [
    {
     "name": "stderr",
     "output_type": "stream",
     "text": [
      "<magic-timeit>:1: DeprecationWarning: `resolution` is deprecated in favor of `pixel_size` to avoid confusion. `resolution` will be removed in a future release.\n"
     ]
    },
    {
     "name": "stderr",
     "output_type": "stream",
     "text": [
      "<magic-timeit>:1: DeprecationWarning: `resolution` is deprecated in favor of `pixel_size` to avoid confusion. `resolution` will be removed in a future release.\n"
     ]
    },
    {
     "name": "stderr",
     "output_type": "stream",
     "text": [
      "<magic-timeit>:1: DeprecationWarning: `resolution` is deprecated in favor of `pixel_size` to avoid confusion. `resolution` will be removed in a future release.\n"
     ]
    },
    {
     "name": "stderr",
     "output_type": "stream",
     "text": [
      "<magic-timeit>:1: DeprecationWarning: `resolution` is deprecated in favor of `pixel_size` to avoid confusion. `resolution` will be removed in a future release.\n"
     ]
    },
    {
     "name": "stderr",
     "output_type": "stream",
     "text": [
      "<magic-timeit>:1: DeprecationWarning: `resolution` is deprecated in favor of `pixel_size` to avoid confusion. `resolution` will be removed in a future release.\n"
     ]
    },
    {
     "name": "stderr",
     "output_type": "stream",
     "text": [
      "<magic-timeit>:1: DeprecationWarning: `resolution` is deprecated in favor of `pixel_size` to avoid confusion. `resolution` will be removed in a future release.\n"
     ]
    },
    {
     "name": "stderr",
     "output_type": "stream",
     "text": [
      "<magic-timeit>:1: DeprecationWarning: `resolution` is deprecated in favor of `pixel_size` to avoid confusion. `resolution` will be removed in a future release.\n"
     ]
    },
    {
     "name": "stderr",
     "output_type": "stream",
     "text": [
      "<magic-timeit>:1: DeprecationWarning: `resolution` is deprecated in favor of `pixel_size` to avoid confusion. `resolution` will be removed in a future release.\n"
     ]
    },
    {
     "name": "stdout",
     "output_type": "stream",
     "text": [
      "2.48 s ± 42.7 ms per loop (mean ± std. dev. of 7 runs, 1 loop each)\n"
     ]
    }
   ],
   "source": [
    "%%timeit\n",
    "prod.load(\n",
    "    GREEN,\n",
    "    resolution=20.,\n",
    "    **{CLEAN_OPTICAL: CleanMethod.RAW}\n",
    ")\n",
    "prod.clean_tmp()"
   ]
  },
  {
   "cell_type": "code",
   "execution_count": 8,
   "id": "a3b56bda",
   "metadata": {},
   "outputs": [
    {
     "name": "stderr",
     "output_type": "stream",
     "text": [
      "<magic-timeit>:1: DeprecationWarning: `resolution` is deprecated in favor of `pixel_size` to avoid confusion. `resolution` will be removed in a future release.\n"
     ]
    },
    {
     "name": "stderr",
     "output_type": "stream",
     "text": [
      "<magic-timeit>:1: DeprecationWarning: `resolution` is deprecated in favor of `pixel_size` to avoid confusion. `resolution` will be removed in a future release.\n"
     ]
    },
    {
     "name": "stderr",
     "output_type": "stream",
     "text": [
      "<magic-timeit>:1: DeprecationWarning: `resolution` is deprecated in favor of `pixel_size` to avoid confusion. `resolution` will be removed in a future release.\n"
     ]
    },
    {
     "name": "stderr",
     "output_type": "stream",
     "text": [
      "<magic-timeit>:1: DeprecationWarning: `resolution` is deprecated in favor of `pixel_size` to avoid confusion. `resolution` will be removed in a future release.\n"
     ]
    },
    {
     "name": "stderr",
     "output_type": "stream",
     "text": [
      "<magic-timeit>:1: DeprecationWarning: `resolution` is deprecated in favor of `pixel_size` to avoid confusion. `resolution` will be removed in a future release.\n"
     ]
    },
    {
     "name": "stderr",
     "output_type": "stream",
     "text": [
      "<magic-timeit>:1: DeprecationWarning: `resolution` is deprecated in favor of `pixel_size` to avoid confusion. `resolution` will be removed in a future release.\n"
     ]
    },
    {
     "name": "stderr",
     "output_type": "stream",
     "text": [
      "<magic-timeit>:1: DeprecationWarning: `resolution` is deprecated in favor of `pixel_size` to avoid confusion. `resolution` will be removed in a future release.\n"
     ]
    },
    {
     "name": "stderr",
     "output_type": "stream",
     "text": [
      "<magic-timeit>:1: DeprecationWarning: `resolution` is deprecated in favor of `pixel_size` to avoid confusion. `resolution` will be removed in a future release.\n"
     ]
    },
    {
     "name": "stdout",
     "output_type": "stream",
     "text": [
      "3.02 s ± 75.9 ms per loop (mean ± std. dev. of 7 runs, 1 loop each)\n"
     ]
    }
   ],
   "source": [
    "%%timeit\n",
    "prod.load(\n",
    "    GREEN,\n",
    "    resolution=20.,\n",
    "    **{CLEAN_OPTICAL: CleanMethod.NODATA}\n",
    ")\n",
    "prod.clean_tmp()"
   ]
  },
  {
   "cell_type": "code",
   "execution_count": 9,
   "id": "55e3d5b0",
   "metadata": {},
   "outputs": [
    {
     "name": "stderr",
     "output_type": "stream",
     "text": [
      "<magic-timeit>:1: DeprecationWarning: `resolution` is deprecated in favor of `pixel_size` to avoid confusion. `resolution` will be removed in a future release.\n"
     ]
    },
    {
     "name": "stderr",
     "output_type": "stream",
     "text": [
      "<magic-timeit>:1: DeprecationWarning: `resolution` is deprecated in favor of `pixel_size` to avoid confusion. `resolution` will be removed in a future release.\n"
     ]
    },
    {
     "name": "stderr",
     "output_type": "stream",
     "text": [
      "<magic-timeit>:1: DeprecationWarning: `resolution` is deprecated in favor of `pixel_size` to avoid confusion. `resolution` will be removed in a future release.\n"
     ]
    },
    {
     "name": "stderr",
     "output_type": "stream",
     "text": [
      "<magic-timeit>:1: DeprecationWarning: `resolution` is deprecated in favor of `pixel_size` to avoid confusion. `resolution` will be removed in a future release.\n"
     ]
    },
    {
     "name": "stderr",
     "output_type": "stream",
     "text": [
      "<magic-timeit>:1: DeprecationWarning: `resolution` is deprecated in favor of `pixel_size` to avoid confusion. `resolution` will be removed in a future release.\n"
     ]
    },
    {
     "name": "stderr",
     "output_type": "stream",
     "text": [
      "<magic-timeit>:1: DeprecationWarning: `resolution` is deprecated in favor of `pixel_size` to avoid confusion. `resolution` will be removed in a future release.\n"
     ]
    },
    {
     "name": "stderr",
     "output_type": "stream",
     "text": [
      "<magic-timeit>:1: DeprecationWarning: `resolution` is deprecated in favor of `pixel_size` to avoid confusion. `resolution` will be removed in a future release.\n"
     ]
    },
    {
     "name": "stderr",
     "output_type": "stream",
     "text": [
      "<magic-timeit>:1: DeprecationWarning: `resolution` is deprecated in favor of `pixel_size` to avoid confusion. `resolution` will be removed in a future release.\n"
     ]
    },
    {
     "name": "stdout",
     "output_type": "stream",
     "text": [
      "3.39 s ± 70 ms per loop (mean ± std. dev. of 7 runs, 1 loop each)\n"
     ]
    }
   ],
   "source": [
    "%%timeit\n",
    "prod.load(\n",
    "    GREEN,\n",
    "    resolution=20.,\n",
    "    **{CLEAN_OPTICAL: CleanMethod.CLEAN}\n",
    ")\n",
    "prod.clean_tmp()"
   ]
  },
  {
   "cell_type": "code",
   "execution_count": 10,
   "id": "a12fe297",
   "metadata": {},
   "outputs": [],
   "source": [
    "# Open the product\n",
    "path = os.path.join(folder, \"S2B_MSIL2A_20210517T103619_N7990_R008_T30QVE_20211004T113819.SAFE\")\n",
    "prod = reader.open(path)"
   ]
  },
  {
   "cell_type": "code",
   "execution_count": 11,
   "id": "ea29c971",
   "metadata": {},
   "outputs": [
    {
     "name": "stderr",
     "output_type": "stream",
     "text": [
      "<magic-timeit>:1: DeprecationWarning: `resolution` is deprecated in favor of `pixel_size` to avoid confusion. `resolution` will be removed in a future release.\n"
     ]
    },
    {
     "name": "stderr",
     "output_type": "stream",
     "text": [
      "<magic-timeit>:1: DeprecationWarning: `resolution` is deprecated in favor of `pixel_size` to avoid confusion. `resolution` will be removed in a future release.\n"
     ]
    },
    {
     "name": "stderr",
     "output_type": "stream",
     "text": [
      "<magic-timeit>:1: DeprecationWarning: `resolution` is deprecated in favor of `pixel_size` to avoid confusion. `resolution` will be removed in a future release.\n"
     ]
    },
    {
     "name": "stderr",
     "output_type": "stream",
     "text": [
      "<magic-timeit>:1: DeprecationWarning: `resolution` is deprecated in favor of `pixel_size` to avoid confusion. `resolution` will be removed in a future release.\n"
     ]
    },
    {
     "name": "stderr",
     "output_type": "stream",
     "text": [
      "<magic-timeit>:1: DeprecationWarning: `resolution` is deprecated in favor of `pixel_size` to avoid confusion. `resolution` will be removed in a future release.\n"
     ]
    },
    {
     "name": "stderr",
     "output_type": "stream",
     "text": [
      "<magic-timeit>:1: DeprecationWarning: `resolution` is deprecated in favor of `pixel_size` to avoid confusion. `resolution` will be removed in a future release.\n"
     ]
    },
    {
     "name": "stderr",
     "output_type": "stream",
     "text": [
      "<magic-timeit>:1: DeprecationWarning: `resolution` is deprecated in favor of `pixel_size` to avoid confusion. `resolution` will be removed in a future release.\n"
     ]
    },
    {
     "name": "stderr",
     "output_type": "stream",
     "text": [
      "<magic-timeit>:1: DeprecationWarning: `resolution` is deprecated in favor of `pixel_size` to avoid confusion. `resolution` will be removed in a future release.\n"
     ]
    },
    {
     "name": "stdout",
     "output_type": "stream",
     "text": [
      "2.09 s ± 49.4 ms per loop (mean ± std. dev. of 7 runs, 1 loop each)\n"
     ]
    }
   ],
   "source": [
    "%%timeit\n",
    "prod.load(\n",
    "    GREEN,\n",
    "    resolution=20.,\n",
    "    **{CLEAN_OPTICAL: CleanMethod.RAW}\n",
    ")\n",
    "prod.clean_tmp()"
   ]
  },
  {
   "cell_type": "code",
   "execution_count": 12,
   "id": "effc287c",
   "metadata": {},
   "outputs": [
    {
     "name": "stderr",
     "output_type": "stream",
     "text": [
      "<magic-timeit>:1: DeprecationWarning: `resolution` is deprecated in favor of `pixel_size` to avoid confusion. `resolution` will be removed in a future release.\n"
     ]
    },
    {
     "name": "stderr",
     "output_type": "stream",
     "text": [
      "<magic-timeit>:1: DeprecationWarning: `resolution` is deprecated in favor of `pixel_size` to avoid confusion. `resolution` will be removed in a future release.\n"
     ]
    },
    {
     "name": "stderr",
     "output_type": "stream",
     "text": [
      "<magic-timeit>:1: DeprecationWarning: `resolution` is deprecated in favor of `pixel_size` to avoid confusion. `resolution` will be removed in a future release.\n"
     ]
    },
    {
     "name": "stderr",
     "output_type": "stream",
     "text": [
      "<magic-timeit>:1: DeprecationWarning: `resolution` is deprecated in favor of `pixel_size` to avoid confusion. `resolution` will be removed in a future release.\n"
     ]
    },
    {
     "name": "stderr",
     "output_type": "stream",
     "text": [
      "<magic-timeit>:1: DeprecationWarning: `resolution` is deprecated in favor of `pixel_size` to avoid confusion. `resolution` will be removed in a future release.\n"
     ]
    },
    {
     "name": "stderr",
     "output_type": "stream",
     "text": [
      "<magic-timeit>:1: DeprecationWarning: `resolution` is deprecated in favor of `pixel_size` to avoid confusion. `resolution` will be removed in a future release.\n"
     ]
    },
    {
     "name": "stderr",
     "output_type": "stream",
     "text": [
      "<magic-timeit>:1: DeprecationWarning: `resolution` is deprecated in favor of `pixel_size` to avoid confusion. `resolution` will be removed in a future release.\n"
     ]
    },
    {
     "name": "stderr",
     "output_type": "stream",
     "text": [
      "<magic-timeit>:1: DeprecationWarning: `resolution` is deprecated in favor of `pixel_size` to avoid confusion. `resolution` will be removed in a future release.\n"
     ]
    },
    {
     "name": "stdout",
     "output_type": "stream",
     "text": [
      "2.83 s ± 61.7 ms per loop (mean ± std. dev. of 7 runs, 1 loop each)\n"
     ]
    }
   ],
   "source": [
    "%%timeit\n",
    "prod.load(\n",
    "    GREEN,\n",
    "    resolution=20.,\n",
    "    **{CLEAN_OPTICAL: CleanMethod.NODATA}\n",
    ")\n",
    "prod.clean_tmp()"
   ]
  },
  {
   "cell_type": "code",
   "execution_count": 13,
   "id": "00a977f1",
   "metadata": {
    "pycharm": {
     "is_executing": true
    }
   },
   "outputs": [
    {
     "name": "stderr",
     "output_type": "stream",
     "text": [
      "<magic-timeit>:1: DeprecationWarning: `resolution` is deprecated in favor of `pixel_size` to avoid confusion. `resolution` will be removed in a future release.\n"
     ]
    },
    {
     "name": "stderr",
     "output_type": "stream",
     "text": [
      "<magic-timeit>:1: DeprecationWarning: `resolution` is deprecated in favor of `pixel_size` to avoid confusion. `resolution` will be removed in a future release.\n"
     ]
    },
    {
     "name": "stderr",
     "output_type": "stream",
     "text": [
      "<magic-timeit>:1: DeprecationWarning: `resolution` is deprecated in favor of `pixel_size` to avoid confusion. `resolution` will be removed in a future release.\n"
     ]
    },
    {
     "name": "stderr",
     "output_type": "stream",
     "text": [
      "<magic-timeit>:1: DeprecationWarning: `resolution` is deprecated in favor of `pixel_size` to avoid confusion. `resolution` will be removed in a future release.\n"
     ]
    },
    {
     "name": "stderr",
     "output_type": "stream",
     "text": [
      "<magic-timeit>:1: DeprecationWarning: `resolution` is deprecated in favor of `pixel_size` to avoid confusion. `resolution` will be removed in a future release.\n"
     ]
    },
    {
     "name": "stderr",
     "output_type": "stream",
     "text": [
      "<magic-timeit>:1: DeprecationWarning: `resolution` is deprecated in favor of `pixel_size` to avoid confusion. `resolution` will be removed in a future release.\n"
     ]
    },
    {
     "name": "stderr",
     "output_type": "stream",
     "text": [
      "<magic-timeit>:1: DeprecationWarning: `resolution` is deprecated in favor of `pixel_size` to avoid confusion. `resolution` will be removed in a future release.\n"
     ]
    },
    {
     "name": "stderr",
     "output_type": "stream",
     "text": [
      "<magic-timeit>:1: DeprecationWarning: `resolution` is deprecated in favor of `pixel_size` to avoid confusion. `resolution` will be removed in a future release.\n"
     ]
    },
    {
     "name": "stdout",
     "output_type": "stream",
     "text": [
      "12.6 s ± 66.8 ms per loop (mean ± std. dev. of 7 runs, 1 loop each)\n"
     ]
    }
   ],
   "source": [
    "%%timeit\n",
    "prod.load(\n",
    "    GREEN,\n",
    "    resolution=20.,\n",
    "    **{CLEAN_OPTICAL: CleanMethod.CLEAN}\n",
    ")\n",
    "prod.clean_tmp()"
   ]
  }
 ],
 "metadata": {
  "kernelspec": {
   "display_name": "Python 3 (ipykernel)",
   "language": "python",
   "name": "python3"
  },
  "language_info": {
   "codemirror_mode": {
    "name": "ipython",
    "version": 3
   },
   "file_extension": ".py",
   "mimetype": "text/x-python",
   "name": "python",
   "nbconvert_exporter": "python",
   "pygments_lexer": "ipython3",
   "version": "3.11.6"
  }
 },
 "nbformat": 4,
 "nbformat_minor": 5
}